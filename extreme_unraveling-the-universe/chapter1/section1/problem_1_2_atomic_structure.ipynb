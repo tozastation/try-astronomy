{
 "cells": [
  {
   "cell_type": "markdown",
   "metadata": {},
   "source": [
    "# 問1.2: 原子・粒子の相対的サイズ比較\n",
    "## 原子の階層構造の定量的理解\n",
    "\n",
    "### 📖 問題文と学習目的\n",
    "\n",
    "**問題**: 炭素でできた原子について調べよ。また他の原子や粒子との大きさの関係を調べよ。\n",
    "\n",
    "**詳細**: 原子は、プロトン（陽子）、ニュートロン（中性子）、エレクトロン（電子）から構成されている。原子の中性子や中性子などと陽子（原子核）と呼ぶ。これら粒子の大きさやスケールを調査せよ。また、その他の粒子（クォーク、レプトンなど）についても調べよ。\n",
    "\n",
    "### 🎯 理論的背景と学習ポイント\n",
    "\n",
    "**原子の階層構造**\n",
    "物質は階層的な構造を持っており、素粒子から原子、分子へと段階的に組み上がっています。この問題では、各階層のサイズと構成要素の関係を定量的に理解します。\n",
    "\n",
    "**重要な物理概念**\n",
    "- **素粒子物理学**: クォークとレプトンの標準模型\n",
    "- **原子核物理学**: 陽子・中性子の構造と核力\n",
    "- **原子物理学**: 電子雲と量子力学的軌道\n",
    "- **スケール比較**: 指数表記による巨大な比の理解\n",
    "\n",
    "**学習目標**\n",
    "1. 原子の階層構造の定量的理解\n",
    "2. 素粒子から原子までのスケール比較\n",
    "3. 物質の基本構成要素の把握\n",
    "4. 空間の概念（原子の大部分は空間）"
   ]
  },
  {
   "cell_type": "code",
   "execution_count": null,
   "metadata": {},
   "outputs": [],
   "source": [
    "# 必要なライブラリのインポート\n",
    "import numpy as np\n",
    "import matplotlib.pyplot as plt\n",
    "import japanize_matplotlib\n",
    "\n",
    "# 日本語フォント設定\n",
    "plt.rcParams['font.family'] = ['IPAexGothic', 'DejaVu Sans']\n",
    "plt.rcParams['mathtext.fontset'] = 'stix'\n",
    "plt.rcParams['axes.unicode_minus'] = False\n",
    "\n",
    "print(\"📚 問1.2: 原子・粒子の相対的サイズ比較\")\n",
    "print(\"=\" * 50)\n",
    "print(\"CLAUDE.md方針に基づく段階的学習アプローチ\")"
   ]
  }
 ],
 "metadata": {
  "kernelspec": {
   "display_name": "Python 3",
   "language": "python",
   "name": "python3"
  },
  "language_info": {
   "codemirror_mode": {
    "name": "ipython",
    "version": 3
   },
   "file_extension": ".py",
   "mimetype": "text/x-python",
   "name": "python",
   "nbconvert_exporter": "python",
   "pygments_lexer": "ipython3",
   "version": "3.8.5"
  }
 },
 "nbformat": 4,
 "nbformat_minor": 4
}