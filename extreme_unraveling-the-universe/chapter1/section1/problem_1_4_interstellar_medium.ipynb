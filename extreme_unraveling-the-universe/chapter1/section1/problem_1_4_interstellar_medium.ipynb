{
 "cells": [
  {
   "cell_type": "markdown",
   "metadata": {},
   "source": [
    "# 問1.4: 星間空間での平均的な質量密度計算\n",
    "## 銀河系における物質分布の理解\n",
    "\n",
    "### 📖 問題文と学習目的\n",
    "\n",
    "**問題**: 星間空間では平均的には、1 cm³あたりに1個の水素原子がある。星間空間での平均的な重水素核ではないか？また質量密度はどれくらいか？\n",
    "\n",
    "**与えられた条件**: $N = 1$ cm⁻³、$\\rho = 1.67 \\times 10^{-24}$ g cm⁻³\n",
    "\n",
    "### 🎯 理論的背景と学習ポイント\n",
    "\n",
    "**星間物質の組成と分布**\n",
    "星間空間は一様ではなく、様々な領域で異なる密度と温度を示します。平均的な星間空間の理解は、銀河の構造と進化を理解する基礎となります。\n",
    "\n",
    "**重要な物理概念**\n",
    "- **星間物質 (ISM: Interstellar Medium)**: 銀河系内のガスと塵\n",
    "- **相構造**: 冷たい中性ガス、温かい中性ガス、高温電離ガス\n",
    "- **化学組成**: 水素が約90%、ヘリウムが約10%、重元素が1%\n",
    "- **平均自由行程**: 粒子衝突の確率と距離\n",
    "\n",
    "**学習目標**\n",
    "1. 星間空間の平均密度の理解\n",
    "2. 宇宙での物質分布の不均一性\n",
    "3. 銀河スケールでの物質量推定\n",
    "4. 星形成との関係の理解"
   ]
  }
 ],
 "metadata": {
  "kernelspec": {
   "display_name": "Python 3",
   "language": "python",
   "name": "python3"
  },
  "language_info": {
   "codemirror_mode": {
    "name": "ipython",
    "version": 3
   },
   "file_extension": ".py",
   "mimetype": "text/x-python",
   "name": "python",
   "nbconvert_exporter": "python",
   "pygments_lexer": "ipython3",
   "version": "3.8.5"
  }
 },
 "nbformat": 4,
 "nbformat_minor": 4
}