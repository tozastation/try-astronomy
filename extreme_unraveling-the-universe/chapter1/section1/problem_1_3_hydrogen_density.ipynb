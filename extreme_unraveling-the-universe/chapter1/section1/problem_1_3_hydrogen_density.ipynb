{
 "cells": [
  {
   "cell_type": "markdown",
   "metadata": {},
   "source": [
    "# 問1.3: 水素原子の質量密度と個数密度の関係\n",
    "## 天体物理学での基本的な密度概念の理解\n",
    "\n",
    "### 📖 問題文と学習目的\n",
    "\n",
    "**問題**: 水素原子（陽子＋電子）の質量密度$m_H = m_p + m_e$と個数密度$\\rho = m_H N$の関係について調べよ。また、水素の平均質量密度はどの程度か？\n",
    "\n",
    "**与えられた条件**: $\\rho = m_H N$ ここで、$N = 1$ cm$^{-3}$、$\\rho = 1.67 \\times 10^{-24}$ g cm$^{-3}$\n",
    "\n",
    "### 🎯 理論的背景と学習ポイント\n",
    "\n",
    "**質量密度と個数密度の関係**\n",
    "天体物理学では、物質の分布を表す際に質量密度と個数密度の関係を理解することが重要です。特に星間物質や銀河系の構造を理解する基礎となります。\n",
    "\n",
    "**重要な物理概念**\n",
    "- **質量密度 ($\\rho$)**: 単位体積あたりの質量 [g/cm³]\n",
    "- **個数密度 ($N$)**: 単位体積あたりの粒子数 [cm⁻³]\n",
    "- **粒子質量**: 水素原子の質量（陽子＋電子質量）\n",
    "- **星間物質**: 宇宙空間に存在する希薄なガス\n",
    "\n",
    "**学習目標**\n",
    "1. 質量密度と個数密度の関係式の理解\n",
    "2. 水素原子の質量計算\n",
    "3. 星間空間での物質密度の感覚\n",
    "4. 天体物理学での基本単位の習得"
   ]
  }
 ],
 "metadata": {
  "kernelspec": {
   "display_name": "Python 3",
   "language": "python",
   "name": "python3"
  },
  "language_info": {
   "codemirror_mode": {
    "name": "ipython",
    "version": 3
   },
   "file_extension": ".py",
   "mimetype": "text/x-python",
   "name": "python",
   "nbconvert_exporter": "python",
   "pygments_lexer": "ipython3",
   "version": "3.8.5"
  }
 },
 "nbformat": 4,
 "nbformat_minor": 4
}