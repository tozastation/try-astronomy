{
 "cells": [
  {
   "cell_type": "markdown",
   "source": "### 🎯 問1.1 学習成果と考察\n\n**重要な発見と理解**\n1. **構造の美しさ**: C60は数学的に完璧なオイラーの多面体公式（$V-E+F=2$）を満たす\n2. **同素体の多様性**: 同じ炭素原子でも構造により全く異なる性質を示す\n3. **スケーリング法則**: フラーレンの直径は原子数の1/3乗に比例する（$d \\propto N^{1/3}$）\n4. **学際的応用**: 医学から工学まで幅広い分野での応用可能性\n\n**物理的意味**\n- 分子レベルでの構造が巨視的性質を決定する例\n- ナノスケールでの新しい物理現象の発現\n- 基礎研究から応用研究への橋渡し\n\n**応用分野の詳細**\n- **医学・生物学**: 薬物送達システム、抗酸化剤、MRI造影剤、抗癌剤キャリア\n- **材料科学**: 超伝導体、触媒、潤滑剤\n- **エレクトロニクス**: 半導体、太陽電池、有機EL\n- **ナノテクノロジー**: 分子認識、ナノマシン、センサー、量子ドット\n\n**次のステップへの橋渡し**\nC60フラーレン（～1nm）から次の問題では原子スケール（～0.1nm）へとスケールを変えて、物質の階層構造を理解していきます。",
   "metadata": {}
  },
  {
   "cell_type": "code",
   "source": "# 3. 可視化と考察\n\ndef visualize_fullerene_comprehensive():\n    \"\"\"C60フラーレンの包括的可視化\"\"\"\n    \n    # 日本語フォント設定（セル冒頭で必須）\n    import matplotlib.pyplot as plt\n    import japanize_matplotlib\n    \n    plt.rcParams['font.family'] = ['IPAexGothic', 'DejaVu Sans']\n    plt.rcParams['mathtext.fontset'] = 'stix'\n    plt.rcParams['axes.unicode_minus'] = False\n    \n    fig, ((ax1, ax2), (ax3, ax4)) = plt.subplots(2, 2, figsize=(16, 12))\n    \n    # データ定義（Markdownで計算済みの値を使用）\n    # 1. C60の幾何学的構造検証\n    geometry_labels = ['頂点\\\\n(炭素原子)', '辺\\\\n(C-C結合)', '面\\\\n(五角形+六角形)', 'オイラー公式\\\\n(V-E+F)']\n    geometry_values = [60, 90, 32, 2]\n    colors_geom = ['lightblue', 'lightgreen', 'lightcoral', 'gold']\n    \n    bars1 = ax1.bar(geometry_labels, geometry_values, color=colors_geom, alpha=0.8, \n                    edgecolor='black', linewidth=1.5)\n    \n    for bar, value in zip(bars1, geometry_values):\n        ax1.text(bar.get_x() + bar.get_width()/2, bar.get_height() + 1,\n                str(value), ha='center', va='bottom', fontweight='bold', fontsize=12)\n    \n    # オイラー公式の成立を強調\n    ax1.text(3, 8, '✅ オイラー公式成立\\\\n(V-E+F = 2)', \n             ha='center', va='bottom', fontsize=11, fontweight='bold', color='darkred',\n             bbox=dict(boxstyle='round,pad=0.5', facecolor='yellow', alpha=0.8))\n    \n    ax1.set_ylabel('数量', fontsize=12, fontweight='bold')\n    ax1.set_title('C60フラーレンの幾何学的構造\\\\n（オイラーの多面体公式による検証）', \n                  fontsize=14, fontweight='bold')\n    ax1.grid(True, alpha=0.3)\n    \n    # 2. 炭素同素体の物性比較\n    allotrope_names = ['ダイヤモンド', 'グラファイト', 'C60フラーレン', 'グラフェン']\n    hardness_values = [10, 1, 6, 8]\n    colors_allotropes = ['brown', 'gray', 'purple', 'cyan']\n    \n    bars2 = ax2.bar(allotrope_names, hardness_values, color=colors_allotropes, alpha=0.7, \n                    edgecolor='black', linewidth=1.5)\n    \n    for bar, value in zip(bars2, hardness_values):\n        ax2.text(bar.get_x() + bar.get_width()/2, bar.get_height() + 0.2,\n                str(value), ha='center', va='bottom', fontweight='bold', fontsize=11)\n    \n    ax2.set_ylabel('モース硬度', fontsize=12, fontweight='bold')\n    ax2.set_title('炭素同素体の硬度比較', fontsize=14, fontweight='bold')\n    ax2.tick_params(axis='x', rotation=45)\n    ax2.grid(True, alpha=0.3)\n    \n    # 3. フラーレンファミリーのサイズ関係\n    fullerene_names = ['C60', 'C70', 'C84', 'C240', 'C540']\n    atom_counts = [60, 70, 84, 240, 540]\n    diameters = [1.1, 1.3, 1.5, 2.8, 4.2]\n    \n    # 散布図でサイズ関係を表示\n    ax3.scatter(atom_counts, diameters, s=150, alpha=0.8, c='purple', \n               edgecolors='black', linewidth=2)\n    \n    # 理論的関係線 (直径 ∝ N^(1/3))\n    x_theory = np.linspace(60, 540, 100)\n    y_theory = 1.1 * (x_theory/60)**(1/3)\n    ax3.plot(x_theory, y_theory, 'r--', linewidth=3, alpha=0.8, \n            label='理論関係: d ∝ N^(1/3)')\n    \n    # ラベル付け\n    for name, atoms, diameter in zip(fullerene_names, atom_counts, diameters):\n        ax3.annotate(name, (atoms, diameter), xytext=(8, 8), \n                    textcoords='offset points', fontsize=11, fontweight='bold',\n                    bbox=dict(boxstyle='round,pad=0.3', facecolor='white', alpha=0.8))\n    \n    ax3.set_xlabel('炭素原子数', fontsize=12, fontweight='bold')\n    ax3.set_ylabel('直径 (nm)', fontsize=12, fontweight='bold')\n    ax3.set_title('フラーレンファミリーのサイズ関係\\\\n（球状分子の基本スケーリング法則）', \n                  fontsize=14, fontweight='bold')\n    ax3.grid(True, alpha=0.3)\n    ax3.legend(fontsize=11)\n    \n    # 4. 応用分野の展開\n    app_fields = ['医学・生物学', '材料科学', 'エレクトロニクス', 'ナノテクノロジー']\n    app_counts = [4, 3, 3, 4]\n    colors_app = ['lightblue', 'lightgreen', 'lightcoral', 'lightyellow']\n    \n    wedges, texts, autotexts = ax4.pie(app_counts, labels=app_fields, \n                                      autopct=lambda pct: f'{pct:.1f}%\\\\n({int(pct/100*sum(app_counts))}個)',\n                                      colors=colors_app, startangle=90,\n                                      textprops={'fontsize': 10, 'fontweight': 'bold'})\n    \n    ax4.set_title('C60フラーレンの応用分野\\\\n（研究開発が活発な領域）', \n                  fontsize=14, fontweight='bold')\n    \n    plt.tight_layout()\n    plt.show()\n\n# 可視化実行\nvisualize_fullerene_comprehensive()",
   "metadata": {},
   "execution_count": null,
   "outputs": []
  },
  {
   "cell_type": "markdown",
   "source": "### 2. データ準備と計算\n\n**C60フラーレンの定量的データ**\n\n**🏗️ 構造データ**\n- 炭素原子数 (V): 60個\n- C-C結合数 (E): 90本 （各炭素原子は3本の結合、$(60 \\times 3)/2 = 90$）\n- 五角形面数: 12個\n- 六角形面数: 20個\n- 総面数 (F): 32個\n- オイラー公式検証: $V - E + F = 60 - 90 + 32 = 2$ ✅\n\n**📏 物理的性質**\n- 分子量: $60 \\times 12.011 = 720.7$ u\n- 直径: 1.1 nm\n- C-C結合長: 1.40 Å\n\n**🔬 炭素同素体比較データ**\n\n| 同素体 | 構造 | 配位数 | 結合様式 | モース硬度 | 導電性 | 発見年 | 密度 (g/cm³) |\n|--------|------|--------|----------|------------|--------|--------|-------------|\n| ダイヤモンド | 立方晶 | 4 | sp³ | 10 | 絶縁体 | 古代 | 3.52 |\n| グラファイト | 層状 | 3 | sp² | 1 | 導体 | 古代 | 2.26 |\n| C60フラーレン | 球状分子 | 3 | sp²+sp³ | 6 | 半導体 | 1985 | 1.65 |\n| グラフェン | 単層シート | 3 | sp² | 8 | 導体 | 2004 | 2.27 |\n\n**フラーレンファミリーのサイズ関係**\n\n| フラーレン | 原子数 | 直径 (nm) | スケーリング理論 |\n|------------|--------|-----------|------------------|\n| C60 | 60 | 1.1 | 基準 |\n| C70 | 70 | 1.3 | $1.1 \\times (70/60)^{1/3} \\approx 1.25$ |\n| C84 | 84 | 1.5 | $1.1 \\times (84/60)^{1/3} \\approx 1.42$ |\n| C240 | 240 | 2.8 | $1.1 \\times (240/60)^{1/3} \\approx 2.61$ |\n| C540 | 540 | 4.2 | $1.1 \\times (540/60)^{1/3} \\approx 4.12$ |\n\n**理論的スケーリング法則**: 球状分子の直径は原子数の1/3乗に比例 $d \\propto N^{1/3}$",
   "metadata": {}
  },
  {
   "cell_type": "markdown",
   "source": "### 1. 理論と目的の確認\n\n**C60フラーレンの理論的背景**\n\n**📐 幾何学的構造の理論**\n- 切頂二十面体（Truncated Icosahedron）\n- 12個の五角形と20個の六角形から構成\n- 各炭素原子は3つの炭素原子と結合\n- オイラーの公式: $V - E + F = 2$\n\n**🔗 化学結合の理論**\n- sp²混成軌道が主体（平面構造）\n- 五角形部分でsp³的性質（湾曲構造）\n- π電子系による安定化\n- アロマティック性と反アロマティック性の競合\n\n**⚗️ 発見の歴史的意義**\n- 1985年: クロトー、スモーリー、カールにより発見\n- 1996年: ノーベル化学賞受賞\n- ナノテクノロジーの出発点\n- 第3の炭素同素体として認識",
   "metadata": {}
  },
  {
   "cell_type": "code",
   "source": "# 必要なライブラリのインポート\nimport numpy as np\nimport matplotlib.pyplot as plt\nimport japanize_matplotlib\n\n# 日本語フォント設定\nplt.rcParams['font.family'] = ['IPAexGothic', 'DejaVu Sans']\nplt.rcParams['mathtext.fontset'] = 'stix'\nplt.rcParams['axes.unicode_minus'] = False\n\nprint(\"📚 問1.1: C60フラーレンの構造理解\")\nprint(\"=\" * 50)\nprint(\"CLAUDE.md方針に基づく段階的学習アプローチ\")",
   "metadata": {},
   "execution_count": null,
   "outputs": []
  },
  {
   "cell_type": "markdown",
   "metadata": {},
   "source": [
    "# 問1.1: C60フラーレンの構造理解\n",
    "## 分子レベルでの幾何学と化学結合の理解\n",
    "\n",
    "### 📖 問題文と学習目的\n",
    "\n",
    "**問題**: 炭素でできた60個の炭素原子からなる球状の分子であるC60について調べよ。また他の同族体についても調べよ。\n",
    "\n",
    "### 🎯 理論的背景と学習ポイント\n",
    "\n",
    "**フラーレンとは**\n",
    "フラーレンは1985年に発見された炭素の同素体で、球状やナノチューブ状の構造を持ちます。C60は最も代表的なフラーレンで、サッカーボールのような構造をしています。\n",
    "\n",
    "**重要な物理概念**\n",
    "- **分子幾何学**: オイラーの多面体公式 $V - E + F = 2$\n",
    "- **化学結合**: sp²とsp³混成軌道の理解\n",
    "- **ナノスケール物理**: 分子レベルでの構造と物性の関係\n",
    "- **同素体の概念**: 同じ元素でも構造により異なる性質\n",
    "\n",
    "**学習目標**\n",
    "1. 分子レベルでの幾何学的構造の理解\n",
    "2. 炭素同素体の多様性と物性の関係\n",
    "3. ナノマテリアルとしての応用可能性\n",
    "4. 科学的発見の歴史的意義"
   ]
  }
 ],
 "metadata": {
  "kernelspec": {
   "display_name": "Python 3",
   "language": "python",
   "name": "python3"
  },
  "language_info": {
   "codemirror_mode": {
    "name": "ipython",
    "version": 3
   },
   "file_extension": ".py",
   "mimetype": "text/x-python",
   "name": "python",
   "nbconvert_exporter": "python",
   "pygments_lexer": "ipython3",
   "version": "3.8.5"
  }
 },
 "nbformat": 4,
 "nbformat_minor": 4
}