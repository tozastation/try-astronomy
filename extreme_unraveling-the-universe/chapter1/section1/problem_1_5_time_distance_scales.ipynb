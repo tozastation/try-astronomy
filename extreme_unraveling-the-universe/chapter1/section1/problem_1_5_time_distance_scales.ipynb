{
 "cells": [
  {
   "cell_type": "markdown",
   "metadata": {},
   "source": [
    "# 問1.5: 自分の年齢の秒数計算と熱速度での光年換算\n",
    "## 人間スケールと宇宙スケールの比較\n",
    "\n",
    "### 📖 問題文と学習目的\n",
    "\n",
    "**問題**: 自分の年齢（体調）は何秒？　また熱速度で何光年？\n",
    "\n",
    "**与えられた条件**: 年齢が25歳と仮定、熱速度を約3km/s\n",
    "\n",
    "### 🎯 理論的背景と学習ポイント\n",
    "\n",
    "**時間スケールの天体物理学**\n",
    "人間の時間感覚と宇宙の時間スケールを比較することで、天体現象の理解を深めます。また、熱運動速度での距離換算により、原子・分子レベルでの宇宙の広がりを実感します。\n",
    "\n",
    "**重要な物理概念**\n",
    "- **時間単位の換算**: 年、日、時間、分、秒の関係\n",
    "- **熱運動速度**: 温度に依存する粒子の平均速度\n",
    "- **光年**: 天文学での距離単位\n",
    "- **相対的スケール感覚**: 人間スケールと宇宙スケールの比較\n",
    "\n",
    "**学習目標**\n",
    "1. 大きな数の感覚を身につける\n",
    "2. 時間と距離の単位換算の習得\n",
    "3. 天体物理学的現象との時間比較\n",
    "4. 原子運動と宇宙規模の関係理解"
   ]
  }
 ],
 "metadata": {
  "kernelspec": {
   "display_name": "Python 3",
   "language": "python",
   "name": "python3"
  },
  "language_info": {
   "codemirror_mode": {
    "name": "ipython",
    "version": 3
   },
   "file_extension": ".py",
   "mimetype": "text/x-python",
   "name": "python",
   "nbconvert_exporter": "python",
   "pygments_lexer": "ipython3",
   "version": "3.8.5"
  }
 },
 "nbformat": 4,
 "nbformat_minor": 4
}